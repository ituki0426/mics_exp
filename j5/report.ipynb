{
 "cells": [
  {
   "cell_type": "markdown",
   "id": "21159c89-d07a-4667-89f2-beec6b48c4b7",
   "metadata": {
    "deletable": false,
    "editable": false,
    "slideshow": {
     "slide_type": ""
    },
    "tags": []
   },
   "source": [
    "# レポート課題\n",
    "\n",
    "以下の問題について，この `report.ipynb` を編集し，完成した自分が編集した .ipynb ファイルをGoogle Classroomの該当課題に提出してください．（もしこのノートブックをファイルに保存したいときには，メニューの「file」→「Download」で .ipynb ファイルをダウンロード出来るので，それを提出してください．）\n",
    "\n",
    "\n",
    "- 適宜コメントを入れてください．\n",
    "- 提出する際のファイル名は，「`学籍番号.ipynb`」としてください．\n",
    "- 問題1について，Markdownで書きにくい場合には，ClassroomにPDFファイルを追加して提出してもかまいません．\n",
    "- 発展課題は任意とします．\n",
    "- Markdownを書くときには，[Wiki](https://ja.wikipedia.org/wiki/Markdown)にあるぐらいの基本的なマークアップで書いてくれればよいです（もちろん，自分で調べてもっと高度なMarkdownを書いてくれても見られればよいです）．"
   ]
  },
  {
   "cell_type": "markdown",
   "id": "4f3405bc-e145-4f14-aacb-d4396bb0051c",
   "metadata": {
    "deletable": false,
    "editable": false,
    "slideshow": {
     "slide_type": ""
    },
    "tags": []
   },
   "source": [
    "# 問題1 - LALR構文解析についてまとめる（第2回の内容から）\n",
    "\n",
    "Yaccは，***LALR構文解析*** を行う構文解析器を出力するということを第2回で説明しました．\n",
    "\n",
    "LALR構文解析について，以下の用語などを交えて説明してください．\n",
    "（すべてが含まれている必要はないですが，自分でちゃんと理解したうえでまとめること）\n",
    "\n",
    "- 上向き構文解析\n",
    "- スタック\n",
    "- 構文解析表\n",
    "- Shift / Reduce\n",
    "- shift/reduce conflict の例\n",
    "- reduce/reduce conflictの例\n",
    "- 第1回の問題5 （右再帰と左再帰で，どちらがYaccにとって良いか．）\n",
    "\n",
    "ヒント1: 書籍が沢山出ているので，それを参考にしてください．（僕らのときは，）\n",
    "\n",
    "> 『情報科学こんせぷつ8 コンパイラの仕組み』渡邊 坦(著) ISBN：978-4-254-12708-9\n",
    "\n",
    "が教科書に指定されていました．\n",
    "\n",
    "ヒント2: 今回のノートブックが裏で使っているBisonのページは次のとおり，\n",
    "[The Bison Parser Algorithm](https://www.gnu.org/software/bison/manual/html_node/Algorithm.html)"
   ]
  },
  {
   "cell_type": "markdown",
   "id": "0efee62a-5d03-405e-84f9-74a632b00632",
   "metadata": {
    "deletable": false,
    "editable": true,
    "slideshow": {
     "slide_type": ""
    },
    "tags": []
   },
   "source": [
    "### 1. 解析アルゴリズムの位置づけ\n",
    "\n",
    "LALR構文解析には、下記の特徴がある。\n",
    "\n",
    "- **ボトムアップ方式**：入力（左→右）を読みながら右端導出を逆順にたどり、還元（*reduce*）を繰り返して開始記号へ到達する。\n",
    "- **LR ファミリ**：LR(0) → SLR(1) → ***LALR(1)*** → Canonical LR(1) の順に構文解析表のサイズと解析力のトレードオフがある。LALR(1) は LR(1) と同じ先読み 1 トークンの解析力をほぼ維持しつつ、マージによって構文解析表が LR(0) とほぼ同じ大きさになるため実用パーサ―生成器（Yacc/Bison など）の標準方式となっている。\n",
    "- まず LR(0) と同様の処理：LR(0) アイテム集合族（DFA）と GOTO 遷移を構成し、構文解析表の骨格を得る。\n",
    "- その後，全ての閉包に対して先読みを付加：各 LR(0) 状態（閉包）に含まれるすべてのアイテムに，文脈に応じた先読み記号を付与して LR(1) アイテムへ拡張する。\n",
    "- 初期状態から順に，全閉包の項を LR(1) 項に変換：DFA を BFS 順にたどりながら拡張を行うことで，解析表全体に一貫した先読み情報を行き渡らせる。\n",
    "- 先読みの計算には Follow 集合を用いる：還元が妥当であるかを判断する先読み集合（look‑ahead set）は，Follow 集合によって導出される。\n",
    "- LR(1) のように状態ごとに完全な lookahead を保持するのではなく、LR(0) 状態で lookahead を共有（マージ）することで、LR(1) より小さな表サイズを実現する（DeRemer & Pennello, 1982）。\n",
    "\n",
    "### 1.1 Follow 集合とは？\n",
    "\n",
    "**Follow(A)** とは，文法の開始記号から導出される sentential form において，非終端記号 **A** の直後に現れ得る *終端記号* の集合である。\n",
    "具体的には，次を満たす終端記号 **a** は **Follow(A)** に含まれる。\n",
    "\n",
    "1. 開始記号 **S** からの導出で `S ⇒* α A a β` が成り立つ。\n",
    "2. ある規則 `B → α A` があり，`α` を消去できる（ε 推移）場合には，**Follow(B)** も **Follow(A)** に入る（再帰的定義）。\n",
    "3. 文末記号 `$` は，開始記号が `S → α A` の形で終わり得るとき **Follow(A)** に含まれる。\n",
    "\n",
    "#### 役割\n",
    "\n",
    "- **SLR/LALR/LR(1) 解析**での *reduce* 動作判定：規則 `A → β` の還元が適用されるのは，現在の先読みトークンが **Follow(A)** に含まれるときに限る。\n",
    "- **Look‑ahead 集合の種集合**：DeRemer–Pennello の LALR(1) look‑ahead 計算では，非終端遷移に関する Read/Follow 関係をグラフとして構築し，SCC の伝播により LA 集合を求める。その際，Follow 集合が初期値として用いられる。\n",
    "\n",
    "#### 算出アルゴリズム \n",
    "\n",
    "1. すべての非終端記号 **A** について **Follow(A) ← ∅** とする。\n",
    "2. **Follow(S) ← { $ }** （`S` は開始記号）。\n",
    "3. 規則を走査し，以下を満たす限り集合を更新する：\n",
    "   - 規則 `B → α A a β` があり **a** が終端記号なら **a** を **Follow(A)** に追加。\n",
    "   - 規則 `B → α A β` があり `β ⇒* ε` となる場合，**Follow(B)** を **Follow(A)** に併合。\n",
    "4. 変化がなくなるまで 3 を繰り返す（固定点反復）。\n",
    "---\n",
    "\n",
    "### 2. 構文解析表\n",
    "\n",
    "LALR パーサーは 2 枚のテーブルと 1 本のスタックから構成される。\n",
    "\n",
    "| テーブル       | 行  | 列     | 値                                               | 役割      |\n",
    "| ---------- | -- | ----- | ----------------------------------------------- | ------- |\n",
    "| **ACTION** | 状態 | 終端記号  | `shift s_j` / `reduce A→β` / `accept` / `error` | 次の動作を決定 |\n",
    "| **GOTO**   | 状態 | 非終端記号 | 次状態                                             | 還元後の遷移先 |\n",
    "\n",
    "例えば、下記のようなACTION表が考えられます。この時、siはshift状態iをスタックに積む動作を、rjは文法jによるreduce動作を、accは受理を意味します。\n",
    "\n",
    "| state | id | +  | \\* | (  | )  | \\$  |\n",
    "| ----- | -- | -- | -- | -- | -- | --- |\n",
    "| 0     | s5 |    |    | s4 |    |     |\n",
    "| 1     |    | s6 |    |    |    | acc |\n",
    "| 2     |    | r2 | s7 |    | r2 | r2  |\n",
    "\n",
    "例えば下記のようなGOTO表が考えられます\n",
    "\n",
    "| state | E | T | F |\n",
    "| ----- | - | - | - |\n",
    "| 0     | 1 | 2 | 3 |\n",
    "| 4     |   | 8 | 3 |\n",
    "| 6     |   |   | 9 |\n",
    "\n",
    "#### スタック構造\n",
    "\n",
    "`[ s₀, X₁, s₁, X₂, s₂, … ]` のように **状態と文法記号**を交互に積む。動作規則は次の通り。\n",
    "\n",
    "1. **shift**: `ACTION[s_m, a] = shift s_j` のとき `(a, s_j)` をプッシュ。\n",
    "2. **reduce**: `ACTION[s_m, a] = reduce A→β` のとき `2·|β|` 個ポップし `(A, GOTO[s_i, A])` をプッシュ。\n",
    "3. **accept**: `ACTION[s_m, $] = accept` で解析終了。\n",
    "\n",
    "SHIFT/REDUCE の衝突（*conflict*）が解決できない場合、文法はその方式で解析不可能（あるいは曖昧）となる。\n",
    "\n",
    "> #### reduce/reduce conflict 例\n",
    ">\n",
    "> ```bnf\n",
    "> sequence       : /* ε */\n",
    ">               | maybeword\n",
    ">               | sequence word\n",
    "> ;\n",
    "> maybeword      : /* ε */\n",
    ">               | word\n",
    "> ;\n",
    "> ```\n",
    ">\n",
    "> `word` を読んだとき `maybeword → ε` で reduce するか、`word` を shift して `maybeword → word` を待つかが両立しない。\n",
    "\n",
    "---\n",
    "\n",
    "### 3. **LR(1) ➜ LALR(1) 解析表マージ手順**\n",
    "\n",
    "1. **Canonical LR(1) 項集合族を生成**\n",
    "   - 各項は形 `A→α·β , a` （先読み a を伴う）。\n",
    "2. **コア抽出**\n",
    "   - 先読みを除いた部分 `A→α·β` が **LR(0) コア**。\n",
    "3. **同一コアをもつ状態同士をマージ**\n",
    "   - 先読み集合を集合和で統合する。\n",
    "4. **ACTION/GOTO 表を再構築**\n",
    "   - マージ後の状態番号でエントリを張り直す。\n",
    "5. **衝突検査**\n",
    "   - マージにより新たな *reduce/reduce* または *shift/reduce* conflict が生じないか確認する。\n",
    "\n",
    " **ポイント**\n",
    "\n",
    "- マージにより表サイズは LR(1) の 10⁻³ 倍程度まで縮小する例もある。\n",
    "- 解析力は LR(1) にほぼ匹敵（ただしコンフリクトが新たに増える可能性がある）。\n",
    "\n",
    "---\n",
    "\n",
    "### 4. shift / reduce / accept 動作（詳細）\n",
    "\n",
    "#### 4.1 shift\n",
    "\n",
    "```\n",
    "… sᵢ  ⇒  … sᵢ  a  sⱼ\n",
    "        ACTION[sᵢ, a] = shift sⱼ\n",
    "```\n",
    "\n",
    "- トークン `a` を読み、スタックに `(a, sⱼ)` をプッシュ。\n",
    "\n",
    "#### 4.2 reduce A→β\n",
    "\n",
    "```\n",
    "… sᵢ β  ⇒  … sᵢ A sₖ\n",
    "          sₖ = GOTO[sᵢ, A]\n",
    "```\n",
    "\n",
    "- `2·|β|` 個の要素をポップして非終端 `A` と新状態 `sₖ` をプッシュ。\n",
    "\n",
    "#### 4.3 accept\n",
    "\n",
    "```\n",
    "ACTION[s_m, $] = accept\n",
    "```\n",
    "\n",
    "- 入力全体が文法の開始記号に還元されたことを示す。\n",
    "\n",
    "---\n",
    "\n",
    "### 5. shift/reduce conflict とは？\n",
    "\n",
    "同一状態・同一先読みトークンに対し **shift** と **reduce** の両候補が存在する状況。Yacc/Bison は既定で *shift* を優先し、警告を出力するが、仕様を意図どおりに満たす保証はなくなる。\n",
    "\n",
    "```yacc\n",
    "%token NEWLINE SPECIFIER\n",
    "%token EQUALS STRING VAR\n",
    "%%\n",
    "st      : toplevel ;\n",
    "\n",
    "toplevel: /* 空行 */\n",
    "        | toplevel VAR EQUALS STRING NEWLINE\n",
    "        | toplevel list NEWLINE\n",
    "        ;\n",
    "\n",
    "list    : maybe_specifier VAR\n",
    "        | list maybe_specifier VAR\n",
    "        ;\n",
    "\n",
    "maybe_specifier: /* ε */\n",
    "               | SPECIFIER /* shift/reduce conflict の温床 */\n",
    "               ;\n",
    "%%\n",
    "```\n",
    "\n",
    "---\n",
    "\n",
    "### 6. 参考資料\n",
    "\n",
    "- 筑波大学 HPC 講義資料 [https://www.hpcs.cs.tsukuba.ac.jp/\\~msato/lecture-note/comp-lecture/note4.html](https://www.hpcs.cs.tsukuba.ac.jp/~msato/lecture-note/comp-lecture/note4.html)\n",
    "- 近畿大学 コンパイラ講義資料 [https://www.info.kindai.ac.jp/compiler/lecture/Compiler12note.pdf](https://www.info.kindai.ac.jp/compiler/lecture/Compiler12note.pdf)\n",
    "- DeRemer, F., & Pennello, T. (1982). *Efficient Computation of LALR(1) Look-Ahead Sets*. University of California, Santa Cruz, and MetaWare™ Incorporated.[https://dl.acm.org/doi/pdf/10.1145/69622.357187](https://dl.acm.org/doi/pdf/10.1145/69622.357187)\n"
   ]
  },
  {
   "cell_type": "markdown",
   "id": "1f66f377-d7fb-420f-805a-012ac9677c72",
   "metadata": {
    "deletable": false,
    "editable": false,
    "slideshow": {
     "slide_type": ""
    },
    "tags": []
   },
   "source": [
    "# 問題2 - 電卓の拡張（第1回の内容から）\n",
    "\n",
    "第1回で作成した電卓を自由に拡張して，以下にコードを載せてください．\n",
    "どんな機能を追加したかをMarkdownにまとめて書いて，コードには適宜コメントを入れてください．\n",
    "\n",
    "- 授業の練習問題で自分が作成したものを含んでいてもよいです．\n",
    "- Yaccの**演算子順序**について自分で調べて利用してくれてもよいです．\n",
    "- 授業で対応していなかった演算・実数・関数に対応するなど，一般の関数電卓にある機能でもよいですし，自分で考えた新たな機能でもよいです（プログラムになってしまうと，次の問題3になってしまうので，あくまで電卓の範囲で）"
   ]
  },
  {
   "cell_type": "markdown",
   "id": "3aae73e0-66d8-4103-8b99-d1af8ce0a932",
   "metadata": {
    "deletable": false,
    "editable": true,
    "slideshow": {
     "slide_type": ""
    },
    "tags": []
   },
   "source": [
    "- 積と商の計算を正しい順で(優先して)行う\n",
    "- 電卓内の値を全てdobuleで扱い、小数点を含む演算を可能にする\n",
    "- 三角関数の演算(math.hを使えなかったので、テイラー展開をしてcos,sin,tanを求めました)\n",
    "- ルート計算\n",
    "- 実数を用いた計算\n",
    "- 0で割った時のエラー処理"
   ]
  },
  {
   "cell_type": "code",
   "execution_count": 1,
   "id": "99b19c47-b60c-457f-8b6a-c0b343167b24",
   "metadata": {
    "deletable": false,
    "editable": true,
    "slideshow": {
     "slide_type": ""
    },
    "tags": []
   },
   "outputs": [
    {
     "name": "stdout",
     "output_type": "stream",
     "text": [
      "[Lex] flex generates lex.yy.c successfully"
     ]
    }
   ],
   "source": [
    "/* lex f2.lex */\n",
    "%{\n",
    "#include <math.h>\n",
    "#include <ctype.h>\n",
    "#include <stdlib.h>\n",
    "%}\n",
    "\n",
    "digit   [0-9]\n",
    "white   [\\t ]\n",
    "dot     [\".\"]\n",
    "sign    [+-]\n",
    "\n",
    "%%\n",
    "\"cos\"        { return COS; }\n",
    "\"sin\"        { return SIN; }\n",
    "\"tan\"        { return TAN; }\n",
    "\"sqrt\"       { return SQRT; }\n",
    "\n",
    "{sign}?{digit}+{dot}{digit}+  { yylval.db = atof(yytext); return RNUM; }\n",
    "{sign}?{digit}+               { yylval.db = atof(yytext); return RNUM; }\n",
    "\n",
    "[*%/+()]     { return yytext[0]; }\n",
    "\"\\n\"         { return '\\n'; }\n",
    "{white}      { ; }\n"
   ]
  },
  {
   "cell_type": "code",
   "execution_count": 2,
   "id": "4493d69a-b564-4331-8c51-8253d89a61db",
   "metadata": {},
   "outputs": [
    {
     "name": "stderr",
     "output_type": "stream",
     "text": [
      "/usr/bin/ld: /usr/lib/gcc/x86_64-linux-gnu/12/../../../x86_64-linux-gnu/libl.a(libmain.o): in function `main':\n",
      "(.text.startup+0x9): undefined reference to `yylex'\n",
      "collect2: error: ld returned 1 exit status\n",
      "[C] gcc exited with code 1"
     ]
    }
   ],
   "source": [
    "/* c mytrig.h */\n",
    "#ifndef MYTRIG_H\n",
    "#define MYTRIG_H\n",
    "\n",
    "/* 数値は double 前提。fabs の代わりに自作 abs_d を使う */\n",
    "static inline double abs_d(double x) { return x < 0 ? -x : x; }\n",
    "\n",
    "/* 円周率の定義 */\n",
    "#define MY_PI 3.14159265358979323846264338327950288419716939937510\n",
    "\n",
    "/*余りを求めるコード*/\n",
    "static double my_mod(double x,double y){\n",
    "    return (double)((int)x % (int)y);\n",
    "}\n",
    "/*平方根をニュートン法で計算するアルゴリズム*/\n",
    "static double my_sqrt(double num) {\n",
    "    double x = num;\n",
    "    double dx;\n",
    "    while (1) {\n",
    "        dx = (x * x - num) / (2.0 * x);\n",
    "        if (dx * dx < 0.00001) break;\n",
    "        x -= dx;\n",
    "    }\n",
    "    return x;\n",
    "}\n",
    "\n",
    "/* 角度を [-pi, pi] に正規化 */\n",
    "static double reduce_pi(double x) {\n",
    "    double two_pi = 2.0 * MY_PI;\n",
    "    while (x >  MY_PI) x -= two_pi;\n",
    "    while (x < -MY_PI) x += two_pi;\n",
    "    return x;\n",
    "}\n",
    "\n",
    "/* テイラー展開をある程度の次数で打ち切り */\n",
    "static double my_sin(double x) {\n",
    "    // x を [-pi, pi] に正規化\n",
    "    x = reduce_pi(x);\n",
    "    double term = x;    // x^(2n+1)\n",
    "    double sum  = x;\n",
    "    double x2   = x * x;\n",
    "    term *= -x2 / (2.0 * 3.0);\n",
    "    sum  += term;\n",
    "    term *= -x2 / (4.0 * 5.0);\n",
    "    sum  += term;\n",
    "    term *= -x2 / (6.0 * 7.0);\n",
    "    sum  += term;\n",
    "    term *= -x2 / (8.0 * 9.0);\n",
    "    sum  += term;\n",
    "    return sum;\n",
    "}\n",
    "/* テイラー展開でcosを求める関数*/\n",
    "static double my_cos(double x) {\n",
    "    // x を [-pi, pi] に正規化\n",
    "    x = reduce_pi(x);\n",
    "    double term = 1.0;  // x^(2n)\n",
    "    double sum  = 1.0;\n",
    "    double x2   = x * x;\n",
    "\n",
    "    term *= -x2 / (1.0 * 2.0);\n",
    "    sum  += term;\n",
    "    term *= -x2 / (3.0 * 4.0);\n",
    "    sum  += term;\n",
    "    term *= -x2 / (5.0 * 6.0);\n",
    "    sum  += term;\n",
    "    term *= -x2 / (7.0 * 8.0);\n",
    "    sum  += term;\n",
    "\n",
    "    return sum;\n",
    "}\n",
    "/* テイラー展開でtanを求める関数*/\n",
    "static double my_tan(double x) {\n",
    "    double c = my_cos(x);\n",
    "    if (abs_d(c) < 1e-12) {\n",
    "        return (x >= 0) ? 1e12 : -1e12;\n",
    "    }\n",
    "    return my_sin(x) / c;\n",
    "}\n",
    "\n",
    "#endif /* MYTRIG_H */\n"
   ]
  },
  {
   "cell_type": "code",
   "execution_count": 35,
   "id": "90c58c05-2f1c-4325-b8d1-653d894d0777",
   "metadata": {
    "deletable": false,
    "editable": true,
    "slideshow": {
     "slide_type": ""
    },
    "tags": []
   },
   "outputs": [
    {
     "name": "stdout",
     "output_type": "stream",
     "text": [
      "[Yacc] bison generates y.tab.c successfully"
     ]
    }
   ],
   "source": [
    "/* yacc f2.yacc */\n",
    "%{\n",
    "#include <stdio.h>\n",
    "#include <stdlib.h>\n",
    "#include \"mytrig.h\"\n",
    "%}\n",
    "%union {\n",
    "    double db;\n",
    "}\n",
    "%token <db> RNUM COS SIN TAN SQRT\n",
    "%type <db> expr term prim\n",
    "%left '+'\n",
    "%left '*' '/' '%'\n",
    "%%\n",
    "exprlist:\n",
    "        | exprlist expr '\\n'    { printf(\"%.2f\\n\", $2); }\n",
    "        ;\n",
    "\n",
    "expr    : term\n",
    "        | expr '+' term         { $$ = $1 + $3; } /*足し算*/\n",
    "        | expr '-' term         { $$ = $1 - $3; } /*引き算*/\n",
    "        ;\n",
    "term    : prim       \n",
    "        | term '*' term {$$  = $1 * $3; } /*掛け算*/\n",
    "        | term '/' term {\n",
    "                if($3 == 0){\n",
    "                    printf(\"Error: division by zero\\n\");\n",
    "                    exit(1);\n",
    "                }else{\n",
    "                    $$  = $1 / $3; \n",
    "                }\n",
    "        } /*割り算*/\n",
    "        | term '%' term {\n",
    "                if($3 == 0){\n",
    "                    printf(\"Error: division by zero\\n\");\n",
    "                    exit(0);\n",
    "                }else{\n",
    "                    $$ = my_mod($1,$3);\n",
    "                }\n",
    "        } /*余り演算*/\n",
    "        ;\n",
    "prim\n",
    "    : RNUM                      { $$ = $1; }\n",
    "    | '(' expr ')'              { $$ = $2; }\n",
    "    | COS '(' expr ')'          { $$ = my_cos($3); }\n",
    "    | SIN '(' expr ')'          { $$ = my_sin($3); }\n",
    "    | TAN '(' expr ')'          { $$ = my_tan($3); }\n",
    "    | SQRT '(' expr ')'         { $$ = my_sqrt($3); }\n",
    "    ;\n"
   ]
  },
  {
   "cell_type": "code",
   "execution_count": 3,
   "id": "bfdab3e8-b0a9-49e2-9f8c-e9c849bc3ef6",
   "metadata": {
    "deletable": false,
    "editable": true,
    "slideshow": {
     "slide_type": ""
    },
    "tags": []
   },
   "outputs": [
    {
     "name": "stdout",
     "output_type": "stream",
     "text": [
      "[C] gcc generates a.out successfully"
     ]
    }
   ],
   "source": [
    "/* c f2.c */\n",
    "#include <stdio.h>\n",
    "extern char *yytext;\n",
    "\n",
    "#include \"y.tab.c\"\n",
    "#include \"lex.yy.c\"\n",
    "\n",
    "int main() {\n",
    "  yyparse();\n",
    "  return 0;\n",
    "}"
   ]
  },
  {
   "cell_type": "code",
   "execution_count": 4,
   "id": "53c4b4ff-8866-41f2-a3ba-f2cdea811507",
   "metadata": {
    "deletable": false,
    "editable": true,
    "slideshow": {
     "slide_type": ""
    },
    "tags": []
   },
   "outputs": [
    {
     "name": "stdout",
     "output_type": "stream",
     "text": [
      "4.13\n"
     ]
    }
   ],
   "source": [
    "/* a.out */\n",
    "cos(-1) + 4.5 + -3.21 + tan(3) + sqrt(6)"
   ]
  },
  {
   "cell_type": "code",
   "execution_count": 5,
   "id": "64b95489-a512-4e3f-a769-cdf003ea251c",
   "metadata": {},
   "outputs": [
    {
     "name": "stdout",
     "output_type": "stream",
     "text": [
      "Error: division by zero\n"
     ]
    }
   ],
   "source": [
    "/* a.out */\n",
    "1/0"
   ]
  },
  {
   "cell_type": "markdown",
   "id": "c44a2e50-dab0-4f8d-8643-1ee9b1bf7dd0",
   "metadata": {
    "deletable": false,
    "editable": false,
    "slideshow": {
     "slide_type": ""
    },
    "tags": []
   },
   "source": [
    "# 問題3 - 自分のプログラミング言語の拡張（第2・3回の内容から）\n",
    "\n",
    "第2・3回で作成したプログラミング言語を自由に拡張して，以下にコードを載せてください．どんな機能を追加したか（複数推奨）をMarkdownでまとめて書いて，コードには適宜コメントを入れてください．\n",
    "\n",
    "- 授業の練習問題で自分が作成したものを含んでもよいです．\n",
    "- インタプリタでもコンパイラでもどちらでもよいです．\n",
    "  - コンパイラの場合，出力先の言語は授業でやったC・x64アセンブリ言語のどちらかにしてください（出力先を変えてみるのは，以下で任意発展課題としています）\n",
    "- たとえば，以下のような拡張が考えられます．（もちろん，これ以外の拡張もどんどん入れてください）\n",
    "  - `if`文\n",
    "  - `for`文\n",
    "  - `switch`文\n",
    "  - サブルーチン（値を返さない）\n",
    "  - 関数（値を返す）\n",
    "    - アセンブリ言語でやるとしたら，ラベルなどを付けてジャンプすることになるはず．どうスタックを使うかなどを考えないといけない．\n",
    "  - 配列（1次元でよい）"
   ]
  },
  {
   "cell_type": "markdown",
   "id": "955b364c-3d6d-4170-88a0-00175014c79c",
   "metadata": {
    "deletable": false,
    "editable": true,
    "slideshow": {
     "slide_type": ""
    },
    "tags": []
   },
   "source": [
    "下記のような機能を実装しました。\n",
    "- if文\n",
    "- switch文\n",
    "- 掛け算、割り算、あまりの計算"
   ]
  },
  {
   "cell_type": "code",
   "execution_count": 65,
   "id": "4d7b58f3-1e29-4614-af2c-7279757becf6",
   "metadata": {
    "deletable": false,
    "editable": true,
    "slideshow": {
     "slide_type": ""
    },
    "tags": []
   },
   "outputs": [
    {
     "name": "stdout",
     "output_type": "stream",
     "text": [
      "[Lex] flex generates lex.yy.c successfully"
     ]
    }
   ],
   "source": [
    "/* lex f3.lex */\n",
    "alpha   [a-zA-Z]\n",
    "digit   [0-9]\n",
    "white   [\\n\\t ]\n",
    "%%\n",
    "read                        { return READ;    } /*文字入力*/\n",
    "print                       { return PRINT;   } /*文字出力*/\n",
    "while                       { return WHILE;   } /*while文*/\n",
    "\"if\"                        { return IF;      } /*if文*/\n",
    "\"else\"                      { return ELSE;    } /*else文*/\n",
    "\"case\"                      { return CASE;    } /*case文*/\n",
    "\"default\"                   { return DEFAULT; } /*default文*/\n",
    "\"switch\"                    { return SWITCH;  } /*switch文*/\n",
    "\"++\"                        { return PLUSPLUS;} /*インクリメント*/\n",
    "\"==\"                        { return EQ;}   /*等しい*/\n",
    "\">=\"                        { return GE;}   \n",
    "\"<=\"                        { return LE;}\n",
    "{alpha}({alpha}|{digit})*   { return IDENT; } /*識別子*/\n",
    "{digit}+                    { return NUM; } /*整数*/\n",
    "[*%/+\\-=();{}<>:]               { return yytext[0]; } /*演算子と括弧*/\n",
    "{white}                     { ; } /*空白文字は無視*/"
   ]
  },
  {
   "cell_type": "code",
   "execution_count": 66,
   "id": "d09338c0-e6d7-43c8-874d-b77d8917b089",
   "metadata": {
    "deletable": false,
    "editable": true,
    "slideshow": {
     "slide_type": ""
    },
    "tags": []
   },
   "outputs": [
    {
     "name": "stdout",
     "output_type": "stream",
     "text": [
      "[Yacc] bison generates y.tab.c successfully"
     ]
    }
   ],
   "source": [
    "/* yacc f3.yacc */\n",
    "%union {\n",
    "  Node* np;\n",
    "  int i;\n",
    "  char* s;\n",
    "}\n",
    "%type <s> var\n",
    "%type <np> stlist stat expr prim cond case_e caselist_e /*型の指定*/\n",
    "%token NUM /*数字*/\n",
    "%token IDENT /*識別子*/\n",
    "%token READ /*文字入力*/\n",
    "%token PRINT /*文字出力*/\n",
    "%token WHILE /*while文*/\n",
    "%token PLUSPLUS /*インクリメント*/\n",
    "%token EQ /*等しい*/\n",
    "%token LE /*小なりイコール*/\n",
    "%token GE /*大なりイコール*/\n",
    "%token SWITCH /*switch文*/\n",
    "%token CASE /*case文*/\n",
    "%token DEFAULT /*default文*/\n",
    "%token IF /*if文*/\n",
    "%token ELSE /*else文*/\n",
    "\n",
    "\n",
    "%%\n",
    "prog   : IDENT '{' stlist '}'              { emit_c($3); return 0; }\n",
    "       ;\n",
    "\n",
    "case_e : CASE expr ':' stat                { $$ = createNode(T_CASE, $2, $4); }\n",
    "       | DEFAULT ':' stat                  { $$ = createNode(T_DEFAULT, NULL, $3); }\n",
    "       ;\n",
    "\n",
    "caselist_e\n",
    "       : case_e                            { $$ = $1; }\n",
    "       | caselist_e case_e                 { $$ = createNode(T_STLIST, $1, $2); }\n",
    "       ;\n",
    "\n",
    "/*複数命令の定義*/\n",
    "stlist :                                   { $$ = NULL; }\n",
    "       | stlist stat                       { $$ = createNode(T_STLIST, $1, $2); }\n",
    "       ;\n",
    "\n",
    "/*命令の定義*/\n",
    "stat   : var '=' expr ';'                  { $$ = createNode(T_ASSIGN, $1, $3); }\n",
    "       | READ var ';'                      { $$ = createNode(T_READ, $2, NULL); }\n",
    "       | PRINT expr ';'                    { $$ = createNode(T_PRINT, $2, NULL); }\n",
    "       | WHILE '(' cond ')' stat           { $$ = createNode(T_WHILE, $3, $5); }\n",
    "       | WHILE '(' cond ')' '{' stlist '}' { $$ = createNode(T_WHILE, $3, $6); }\n",
    "       | SWITCH '(' expr ')' '{' caselist_e '}' { $$ = createNode(T_SWITCH, $3, $6); }\n",
    "       | IF '(' cond ')' '{' stlist '}' ELSE '{' stlist '}'{Node* pair = createNode(T_STMT_PAIR, $6, $10);$$ = createNode(T_IFELSE, $3, pair);}\n",
    "       | IF '(' cond ')' stat { $$ = createNode(T_IF, $3, $5); }\n",
    "       ;\n",
    "/*数式の定義*/\n",
    "expr   : prim                              { $$ = $1; }\n",
    "       | expr '+' prim                     { $$ = createNode(T_ADD, $1, $3); }\n",
    "       | expr '-' prim                     { $$ = createNode(T_SUB, $1, $3); }\n",
    "       | expr '*' prim                     { $$ = createNode(T_MUL, $1, $3); }\n",
    "       | expr '/' prim                     { $$ = createNode(T_DIV, $1, $3); }\n",
    "       | expr '%' prim                     { $$ = createNode(T_MOD, $1, $3); }\n",
    "       ;\n",
    "\n",
    "prim   : NUM                               { $$ = createNode(T_NUM, atoi(yytext), NULL); }\n",
    "       | var                               { $$ = createNode(T_VAR, $1, NULL); }\n",
    "       | '(' expr ')'                      { $$ = $2; }\n",
    "       | var PLUSPLUS                      { $$ = createNode(T_PP, $1, NULL); }\n",
    "       ;\n",
    "\n",
    "/*変数の定義*/\n",
    "var    : IDENT                             { $$ = lookup(yytext); }\n",
    "       ;\n",
    "/*比較演算子の定義*/\n",
    "cond   : expr '<' expr                     { $$ = createNode(T_LT, $1, $3); }\n",
    "       | expr '>' expr                     { $$ = createNode(T_GT, $1, $3); }\n",
    "       | expr GE expr                      { $$ = createNode(T_GE, $1, $3); }\n",
    "       | expr LE expr                      { $$ = createNode(T_LE, $1, $3); }\n",
    "       | expr EQ expr                      { $$ = createNode(T_EQ, $1, $3); }\n",
    "       ;\n",
    "%%\n"
   ]
  },
  {
   "cell_type": "code",
   "execution_count": 125,
   "id": "9b807bb3-23ae-451e-8847-ce1108159b2d",
   "metadata": {
    "deletable": false,
    "editable": true,
    "slideshow": {
     "slide_type": ""
    },
    "tags": []
   },
   "outputs": [
    {
     "name": "stdout",
     "output_type": "stream",
     "text": [
      "[C] gcc generates a.out successfully"
     ]
    }
   ],
   "source": [
    "/* c f3.c */\n",
    "#include <stdio.h>\n",
    "#include <stdlib.h>\n",
    "#include <string.h>\n",
    "\n",
    "struct stab {\n",
    "  int val;\n",
    "  char name[20];\n",
    "} stab[100];\n",
    "int stabuse = 0;\n",
    "\n",
    "extern char *yytext;\n",
    "\n",
    "#define T_STLIST    1\n",
    "#define T_ASSIGN    2\n",
    "#define T_READ      3\n",
    "#define T_PRINT     4\n",
    "#define T_ADD       5\n",
    "#define T_SUB       6\n",
    "#define T_NUM       7\n",
    "#define T_VAR       8\n",
    "#define T_LIST_VAR  9\n",
    "#define T_WHILE     10\n",
    "#define T_LT        11\n",
    "#define T_GT        12\n",
    "#define T_LE        13\n",
    "#define T_GE        14\n",
    "#define T_EQ        15\n",
    "#define T_PP        16\n",
    "#define T_CASE      17\n",
    "#define T_SWITCH    18\n",
    "#define T_DEFAULT   19\n",
    "#define T_IF        20\n",
    "#define T_IFELSE    21\n",
    "#define T_STMT_PAIR 22\n",
    "#define T_MUL       23\n",
    "#define T_DIV       24\n",
    "#define T_MOD       25\n",
    "\n",
    "typedef struct Node {\n",
    "    int node_type;\n",
    "    struct Node* left;\n",
    "    struct Node* right;\n",
    "} Node;\n",
    "\n",
    "/* 文字列 name[index] を生成 */\n",
    "char* make_indexed_name(const char* name, int index) {\n",
    "    char buf[256];\n",
    "    snprintf(buf, sizeof(buf), \"%s[%d]\", name, index);\n",
    "    return strdup(buf);\n",
    "}\n",
    "\n",
    "/* シンボルテーブル: s があれば位置を返し、なければ追加して位置を返す */\n",
    "int lookup(char *s) {\n",
    "  int i;\n",
    "  for (i = 0; i < stabuse; ++i) {\n",
    "    if (strcmp(stab[i].name, s) == 0) {\n",
    "      return i;\n",
    "    }\n",
    "  }\n",
    "  if (stabuse >= 99) {\n",
    "    printf(\"table overflow,\\n\");\n",
    "    exit(1);\n",
    "  }\n",
    "  strcpy(stab[stabuse].name, s);\n",
    "  return stabuse++;\n",
    "}\n",
    "\n",
    "/* 新しいノードを作る関数 */\n",
    "Node* createNode(int node_type, Node* left, Node* right) {\n",
    "    Node* newNode = (Node*)malloc(sizeof(Node));\n",
    "    newNode->node_type = node_type;\n",
    "    newNode->left = left;\n",
    "    newNode->right = right;\n",
    "    return newNode;\n",
    "}\n",
    "\n",
    "\n",
    "void _emit_c(Node* node) {\n",
    "  if (node == NULL) {\n",
    "    return;\n",
    "  }\n",
    "  switch (node->node_type) {\n",
    "    case T_STLIST:\n",
    "      if (node->left != NULL) { _emit_c(node->left); }\n",
    "      _emit_c(node->right);\n",
    "      break;\n",
    "    /*while文の実装*/\n",
    "    case T_WHILE:\n",
    "        printf(\"\\twhile (\");\n",
    "        _emit_c(node->left); \n",
    "        printf(\") {\\n\");\n",
    "        _emit_c(node->right); \n",
    "        printf(\"\\t}\\n\");\n",
    "        break;\n",
    "    /*=による割り当ての実装*/\n",
    "    case T_ASSIGN:\n",
    "      printf(\"\\tv%d = \", node->left);\n",
    "      _emit_c(node->right);\n",
    "      printf(\";\\n\");\n",
    "      break;\n",
    "    /*readならscanfで文字入力*/\n",
    "    case T_READ:\n",
    "      printf(\"\\tscanf(\\\"%%d\\\", &v%d);\\n\", node->left);\n",
    "      break;\n",
    "    /*printの実装*/\n",
    "    case T_PRINT:\n",
    "      printf(\"\\tprintf(\\\"%%d\\\",\");\n",
    "      _emit_c(node->left);\n",
    "      printf(\");\\n\");\n",
    "      break;\n",
    "    /*加算の実装*/\n",
    "    case T_ADD:\n",
    "      _emit_c(node->left);\n",
    "      printf(\" + \");\n",
    "      _emit_c(node->right);\n",
    "      break;\n",
    "    /*引き算の実装*/\n",
    "    case T_SUB:\n",
    "      _emit_c(node->left);\n",
    "      printf(\" - \");\n",
    "      _emit_c(node->right);\n",
    "      break;\n",
    "    /*掛け算の実装*/\n",
    "    case T_MUL:\n",
    "      _emit_c(node->left);\n",
    "      printf(\" * \");\n",
    "      _emit_c(node->right);\n",
    "      break;\n",
    "    /*割り算の実装*/\n",
    "    case T_DIV:\n",
    "      _emit_c(node->left);\n",
    "      printf(\"/\");\n",
    "      _emit_c(node->right);\n",
    "      break;\n",
    "    /*余り演算の実装*/\n",
    "    case T_MOD:\n",
    "      _emit_c(node->left); \n",
    "      printf(\" %% \");\n",
    "      _emit_c(node->right);\n",
    "      break;\n",
    "    /*数値ならば値をprintするだけ*/\n",
    "    case T_NUM:\n",
    "      printf(\"%d\", node->left);\n",
    "      break;\n",
    "    /*変数ならばv+変数番号を出力*/\n",
    "    case T_VAR:\n",
    "      printf(\"v%d\", node->left);\n",
    "      break;\n",
    "    case T_LT:\n",
    "      _emit_c(node->left);\n",
    "      printf(\"<\");\n",
    "      _emit_c(node->right);\n",
    "      break;\n",
    "    /*大なりの実装*/\n",
    "    case T_GT:\n",
    "      _emit_c(node->left);\n",
    "      printf(\">\");\n",
    "      _emit_c(node->right);\n",
    "      break;\n",
    "    /*小なりイコールの実装*/\n",
    "    case T_LE:\n",
    "      _emit_c(node->left);\n",
    "      printf(\"<=\");\n",
    "      _emit_c(node->right);\n",
    "      break;\n",
    "    /*大なりイコールの実装*/\n",
    "    case T_GE:\n",
    "      _emit_c(node->left);\n",
    "      printf(\">=\");\n",
    "      _emit_c(node->right);\n",
    "      break;\n",
    "    /*等しいの実装*/\n",
    "    case T_EQ:\n",
    "      _emit_c(node->left);\n",
    "       printf(\"==\");\n",
    "      _emit_c(node->right);\n",
    "      break;\n",
    "    case T_PP:\n",
    "      printf(\"v%d++\", node->left);\n",
    "      break;\n",
    "\n",
    "    /*SWITCH文の定義*/\n",
    "    case T_SWITCH: {\n",
    "        printf(\"\\tswitch (\");\n",
    "        _emit_c(node->left);     /* 判定式 */\n",
    "        printf(\") {\\n\");\n",
    "        _emit_c(node->right);    /* case / default 連結リスト */\n",
    "        printf(\"\\t}\\n\");\n",
    "        break;\n",
    "    }\n",
    "    /*各caseの出力*/\n",
    "    case T_CASE:\n",
    "        printf(\"\\tcase \");\n",
    "        _emit_c(node->left);           /* ラベル値 */\n",
    "        printf(\":\\n\");\n",
    "        _emit_c(node->right);          /* 本体 */\n",
    "        printf(\"\\t\\tbreak;\\n\");\n",
    "        break;\n",
    "    /*defaultの出力*/\n",
    "    case T_DEFAULT:\n",
    "        printf(\"\\tdefault:\\n\");\n",
    "        _emit_c(node->right);          /* 本体 */\n",
    "        printf(\"\\t\\tbreak;\\n\");\n",
    "        break;\n",
    "    case T_IF:\n",
    "      printf(\"\\tif (\");\n",
    "      _emit_c(node->left);   // 条件式\n",
    "      printf(\") {\\n\");\n",
    "      _emit_c(node->right);  // then 節\n",
    "      printf(\"\\t}\\n\");\n",
    "      break;\n",
    "    case T_IFELSE: {\n",
    "      printf(\"\\tif (\");\n",
    "      _emit_c(node->left);   // 条件式\n",
    "      printf(\") {\\n\");\n",
    "      Node* pair = node->right;\n",
    "      _emit_c(pair->left);   // then 節\n",
    "      printf(\"\\t} else {\\n\");\n",
    "      _emit_c(pair->right);  // else 節\n",
    "      printf(\"\\t}\\n\");\n",
    "      break;\n",
    "    }\n",
    "  }\n",
    "}\n",
    "\n",
    "void emit_c(Node* node) {\n",
    "  printf(\"#include <stdio.h>\\n\");\n",
    "  printf(\"int main() {\\n\");\n",
    "  int i;\n",
    "  for (i = 0; i < stabuse; i++) {\n",
    "    printf(\"\\tint v%d;\\n\", i);\n",
    "  }\n",
    "  _emit_c(node);\n",
    "  printf(\"}\\n\");\n",
    "}\n",
    "\n",
    "#include \"y.tab.c\"\n",
    "#include \"lex.yy.c\"\n",
    "\n",
    "int main() {\n",
    "  yyparse();\n",
    "  return 0;\n",
    "}\n",
    "\n"
   ]
  },
  {
   "cell_type": "markdown",
   "id": "4acfe22a-8e44-4ee0-afef-121c0993448a",
   "metadata": {},
   "source": [
    "下記は1~100のうち、３の倍数を表示するコードです"
   ]
  },
  {
   "cell_type": "code",
   "execution_count": 126,
   "id": "915031e2-5515-4982-857b-3cf9d6a9b209",
   "metadata": {},
   "outputs": [
    {
     "name": "stdout",
     "output_type": "stream",
     "text": [
      "#include <stdio.h>\n",
      "int main() {\n",
      "\tint v0;\n",
      "\tv0 = 1;\n",
      "\twhile (v0<100) {\n",
      "\tif (v0 % 3==0) {\n",
      "\tprintf(\"%d\",v0);\n",
      "\t} else {\n",
      "\t}\n",
      "\tv0 = v0 + 1;\n",
      "\t}\n",
      "}\n"
     ]
    }
   ],
   "source": [
    "/* a.out */\n",
    "main {\n",
    "  x = 1;\n",
    "  while(x < 100){\n",
    "  if(x%3==0){\n",
    "    print x;\n",
    "  }else{\n",
    "  }\n",
    "  x = x + 1;\n",
    "  }\n",
    "}"
   ]
  },
  {
   "cell_type": "markdown",
   "id": "4690b445-bf9b-4222-958a-d1d3f6eb77cb",
   "metadata": {},
   "source": [
    "下記は5の階乗を表示するコードです。"
   ]
  },
  {
   "cell_type": "code",
   "execution_count": 127,
   "id": "44c2421b-decc-4393-9766-3a4562789e2e",
   "metadata": {
    "deletable": false,
    "editable": true,
    "slideshow": {
     "slide_type": ""
    },
    "tags": []
   },
   "outputs": [
    {
     "name": "stdout",
     "output_type": "stream",
     "text": [
      "#include <stdio.h>\n",
      "int main() {\n",
      "\tint v0;\n",
      "\tint v1;\n",
      "\tv0 = 5;\n",
      "\tv1 = 1;\n",
      "\twhile (v0>1) {\n",
      "\tv1 = v1 * v0;\n",
      "\tv0 = v0 - 1;\n",
      "\t}\n",
      "\tprintf(\"%d\",v1);\n",
      "}\n"
     ]
    }
   ],
   "source": [
    "/* a.out */\n",
    "main {\n",
    "  x = 5;\n",
    "  res = 1;\n",
    "  while (x > 1) {\n",
    "    res = res * x;\n",
    "    x = x - 1;\n",
    "  }\n",
    "  print res;  \n",
    "}\n"
   ]
  },
  {
   "cell_type": "code",
   "execution_count": 128,
   "id": "ed6a0a14-9b7d-4e0e-830d-ee6436e6ffd1",
   "metadata": {},
   "outputs": [
    {
     "name": "stdout",
     "output_type": "stream",
     "text": [
      "#include <stdio.h>\n",
      "int main() {\n",
      "\tint v0;\n",
      "\tv0 = 5;\n",
      "\tswitch (v0 % 3) {\n",
      "\tcase 0:\n",
      "\tprintf(\"%d\",3);\n",
      "\t\tbreak;\n",
      "\tcase 1:\n",
      "\tprintf(\"%d\",4);\n",
      "\t\tbreak;\n",
      "\tcase 2:\n",
      "\tprintf(\"%d\",5);\n",
      "\t\tbreak;\n",
      "\tdefault:\n",
      "\tprintf(\"%d\",99);\n",
      "\t\tbreak;\n",
      "\t}\n",
      "}\n"
     ]
    }
   ],
   "source": [
    "/* a.out */\n",
    "main {\n",
    "  x = 5;\n",
    "  switch (x % 3) {\n",
    "    case 0: print 3;\n",
    "    case 1: print 4;\n",
    "    case 2: print 5;\n",
    "    default: print 99;\n",
    "  }\n",
    "}"
   ]
  },
  {
   "cell_type": "markdown",
   "id": "79353459-eeab-45f4-ac6a-c8c0ba6e6e67",
   "metadata": {
    "deletable": false,
    "editable": false,
    "slideshow": {
     "slide_type": ""
    },
    "tags": []
   },
   "source": [
    "# 発展問題1 - コード生成（第3回の内容から）\n",
    "\n",
    "第3回で，C言語とx64アセンブリ言語に出力するコンパイラを作成しました．それを参考にして，他のプログラミング言語に出力するコンパイラを作成してください．どんなプログラミング言語に出力するかと，必要に応じて実行モデルについてどうしたか（翻訳するときにどう決めたか）をMarkdownにまとめて書いて，コードには適宜コメントを入れてください．\n",
    "\n",
    "- 自分の知っているどんな言語でもいいです．\n",
    "  - 言語処理系論で出てきた WebAssemblyについて自分で調べてみて出力できると，おもしろいかもしれない（その場合は呼び出すJavaScriptも書いてほしい）．"
   ]
  },
  {
   "cell_type": "markdown",
   "id": "e8d75736-98c1-4029-b547-0b90f9d6a481",
   "metadata": {
    "deletable": false,
    "editable": true,
    "slideshow": {
     "slide_type": ""
    },
    "tags": []
   },
   "source": [
    "どんな言語に出力したのか，ここに書く"
   ]
  },
  {
   "cell_type": "code",
   "execution_count": null,
   "id": "5db5390a-e5e4-41bc-9315-95096dae31e4",
   "metadata": {
    "deletable": false,
    "editable": true,
    "slideshow": {
     "slide_type": ""
    },
    "tags": []
   },
   "outputs": [],
   "source": [
    "/* lex f4.lex */"
   ]
  },
  {
   "cell_type": "code",
   "execution_count": null,
   "id": "2ea3e8b6-c9a9-481c-a8a8-7ac35e463cc3",
   "metadata": {
    "deletable": false,
    "editable": true,
    "slideshow": {
     "slide_type": ""
    },
    "tags": []
   },
   "outputs": [],
   "source": [
    "/* yacc f4.yacc */"
   ]
  },
  {
   "cell_type": "code",
   "execution_count": null,
   "id": "8cbad5be-962c-4992-b4dc-e919ea3792a8",
   "metadata": {
    "deletable": false,
    "editable": true,
    "slideshow": {
     "slide_type": ""
    },
    "tags": []
   },
   "outputs": [],
   "source": [
    "/* c f4.c */"
   ]
  },
  {
   "cell_type": "code",
   "execution_count": null,
   "id": "828f6818-c5b6-46c0-bd8f-dbb3d4b3cf79",
   "metadata": {
    "deletable": false,
    "editable": true,
    "slideshow": {
     "slide_type": ""
    },
    "tags": []
   },
   "outputs": [],
   "source": [
    "/* a.out */"
   ]
  },
  {
   "cell_type": "markdown",
   "id": "53485e03-87d4-4611-aa8a-e970e40ae4b1",
   "metadata": {
    "deletable": false,
    "editable": false,
    "slideshow": {
     "slide_type": ""
    },
    "tags": []
   },
   "source": [
    "# 発展問題2 - プログラミングではない用途（第3回の内容から）\n",
    "\n",
    "第3回で，簡単な英文解析プログラムを作成しました．同様にして，プログラミング言語ではない用途でLex・Yaccを使用したものを自由に作成して，以下にコードを載せてください．どんなプログラムかをMarkdownでまとめて書いて，コードには適宜コメントを入れてください．\n",
    "\n",
    "- 英文の例を単純に拡張するのでもよいです．\n",
    "- JSONやXMLのようなデータを読み込むプログラムでもよいです．\n",
    "- コマンドのオプションを読み込むときに使うプログラムでもよいです．\n",
    "  - たとえば，`ssh`だったら（`% ssh -l ユーザー名`）のようにコマンドを書くけれど，それを解釈するプログラム．間違っていたら`man`コマンドの結果のように使い方を表示すしてみるなど"
   ]
  },
  {
   "cell_type": "markdown",
   "id": "d7680722-bf95-4318-aaa5-2a01be1a1818",
   "metadata": {
    "deletable": false,
    "editable": true,
    "slideshow": {
     "slide_type": ""
    },
    "tags": []
   },
   "source": [
    "どんな機能を追加したのか，ここに書く"
   ]
  },
  {
   "cell_type": "code",
   "execution_count": null,
   "id": "c9ef18e1-d67d-44cf-81d5-8e09a1232c5f",
   "metadata": {
    "deletable": false,
    "editable": true,
    "slideshow": {
     "slide_type": ""
    },
    "tags": []
   },
   "outputs": [],
   "source": [
    "/* lex f5.lex */"
   ]
  },
  {
   "cell_type": "code",
   "execution_count": null,
   "id": "06219dc3-635f-4806-95b2-e7a4c294c8e1",
   "metadata": {
    "deletable": false,
    "editable": true,
    "slideshow": {
     "slide_type": ""
    },
    "tags": []
   },
   "outputs": [],
   "source": [
    "/* yacc f5.yacc */"
   ]
  },
  {
   "cell_type": "code",
   "execution_count": null,
   "id": "de6e564f-6c77-400f-b237-9df21c8becec",
   "metadata": {
    "deletable": false,
    "editable": true,
    "slideshow": {
     "slide_type": ""
    },
    "tags": []
   },
   "outputs": [],
   "source": [
    "/* c f5.c */"
   ]
  },
  {
   "cell_type": "code",
   "execution_count": null,
   "id": "13c91d56-d17f-429d-8de9-ec820c43de36",
   "metadata": {
    "deletable": false,
    "editable": true,
    "slideshow": {
     "slide_type": ""
    },
    "tags": []
   },
   "outputs": [],
   "source": [
    "/* a.out */"
   ]
  },
  {
   "cell_type": "markdown",
   "id": "e1a16b6e-5ed7-42cc-99ae-3def622a7641",
   "metadata": {
    "deletable": false,
    "editable": false,
    "slideshow": {
     "slide_type": ""
    },
    "tags": []
   },
   "source": [
    "# 発展問題3 - 最適化\n",
    "\n",
    "授業資料で作成したコンパイラは，抽象構文木を作成しただけでした．\n",
    "抽象構文木の構造をいじってやれば，コンパイラに最適化を実装できます．この課題では，自由に考えて（調べて）自分が作成したコンパイラになんらかの最適化手法を取り入れてください．\n",
    "\n",
    "- ここまでの問題のどのバージョンのコンパイラでもよいです．\n",
    "  - 最適化の効果が見やすいので，C言語にコード生成してくれるとありがたい． \n",
    "- たとえば，\n",
    "  - 別々の式になっていた足し算を1つにマージするとか（実際問題として実行速度が上がるわけではないが，抽象構文木の形を変える練習として）\n",
    "  - [SSA](https://ja.wikipedia.org/wiki/%E9%9D%99%E7%9A%84%E5%8D%98%E4%B8%80%E4%BB%A3%E5%85%A5) 形式に変換してみるとか\n",
    "  - ループ最適化とか"
   ]
  },
  {
   "cell_type": "code",
   "execution_count": 1,
   "id": "5204e3eb-7a98-4acc-bf42-97b7e0689e6d",
   "metadata": {
    "deletable": false,
    "editable": true,
    "slideshow": {
     "slide_type": ""
    },
    "tags": []
   },
   "outputs": [
    {
     "name": "stdout",
     "output_type": "stream",
     "text": [
      "[Lex] flex generates lex.yy.c successfully"
     ]
    }
   ],
   "source": [
    "/* lex f6.lex */\n",
    "alpha   [a-zA-Z]\n",
    "digit   [0-9]\n",
    "white   [\\n\\t ]\n",
    "%%\n",
    "read                        { return READ; }\n",
    "print                       { return PRINT; }\n",
    "{alpha}({alpha}|{digit})*   { return IDENT; }\n",
    "{digit}+                    { return NUM; }\n",
    "[+\\-=();{}]                 { return yytext[0]; }\n",
    "{white}                     { ; }"
   ]
  },
  {
   "cell_type": "code",
   "execution_count": 2,
   "id": "59d5932e-64e2-4489-8b7e-f9298886f794",
   "metadata": {
    "deletable": false,
    "editable": true,
    "slideshow": {
     "slide_type": ""
    },
    "tags": []
   },
   "outputs": [
    {
     "name": "stdout",
     "output_type": "stream",
     "text": [
      "[Yacc] bison generates y.tab.c successfully"
     ]
    }
   ],
   "source": [
    "/* yacc f6.yacc */\n",
    "%union {\n",
    "  Node* np;\n",
    "  int i;\n",
    "}\n",
    "%type <np> stlist stat expr prim var\n",
    "%token NUM;\n",
    "%token IDENT;\n",
    "%token READ;\n",
    "%token PRINT;\n",
    "%%\n",
    "prog : IDENT '{' stlist '}'\n",
    "      {\n",
    "          traverse_tree(opt($3,NULL,NULL));   /* AST 変換 */\n",
    "          return 0;\n",
    "      };\n",
    "stlist :                            { $$ = NULL; }\n",
    "       | stlist stat                { $$ = createNode(T_STLIST, $1, $2); }\n",
    "       ;\n",
    "stat   : var '=' expr ';'           { $$ = createNode(T_ASSIGN, $1, $3); }\n",
    "       | READ var ';'               { $$ = createNode(T_READ, $2, NULL); }\n",
    "       | PRINT expr ';'             { $$ = createNode(T_PRINT, $2, NULL); }\n",
    "       ;\n",
    "expr   : prim              { $$ = $1; }\n",
    "       | expr '+' prim     { $$ = createNode(T_ADD, $1, $3); }\n",
    "       | expr '-' prim     { $$ = createNode(T_SUB, $1, $3); }\n",
    "       ;\n",
    "prim :  NUM    { $$ = createNode(T_NUM, INT_PTR(atoi(yytext)), NULL); }\n",
    "       | var  { $$ = $1; }  \n",
    "       | '(' expr ')'      { $$ = $2; }\n",
    "       ;\n",
    "var    : IDENT { $$ = createNode(T_VAR, INT_PTR(lookup(yytext)), NULL); }\n",
    "       ;"
   ]
  },
  {
   "cell_type": "code",
   "execution_count": 240,
   "id": "0418fa85-ffb6-46d5-a3e7-9115b4f77aff",
   "metadata": {
    "deletable": false,
    "editable": true,
    "slideshow": {
     "slide_type": ""
    },
    "tags": []
   },
   "outputs": [
    {
     "name": "stdout",
     "output_type": "stream",
     "text": [
      "[C] gcc generates a.out successfully"
     ]
    }
   ],
   "source": [
    "/* c f6.c */\n",
    "#include <stdio.h>\n",
    "struct stab {\n",
    "  int val;\n",
    "  char name[20];\n",
    "} stab[100];\n",
    "int stabuse = 0;\n",
    "\n",
    "extern char *yytext;\n",
    "#include <stdint.h> \n",
    "#define INT_PTR(i) ((Node*)(intptr_t)(i))\n",
    "#define PTR_INT(p) ((int)(intptr_t)(p))\n",
    "\n",
    "#define T_STLIST 1\n",
    "#define T_ASSIGN 2\n",
    "#define T_READ   3\n",
    "#define T_PRINT  4\n",
    "#define T_ADD    5\n",
    "#define T_SUB    6\n",
    "#define T_NUM    7\n",
    "#define T_VAR    8\n",
    "\n",
    "typedef struct Node {\n",
    "    int node_type;\n",
    "    struct Node* left;\n",
    "    struct Node* right;\n",
    "} Node;\n",
    "\n",
    "\n",
    "// 引数にとる文字列が表にあれば見つかった位置を返して，なければ追加する関数\n",
    "int lookup(char *s) {\n",
    "  int i;\n",
    "  // 表の使っているところを順に見ていって\n",
    "  for (i = 0; i < stabuse; ++i) {\n",
    "    if (strcmp(stab[i].name, s) == 0) {\n",
    "      // 見つかった場合はその位置を返す\n",
    "      return i;\n",
    "    }\n",
    "  }\n",
    "  if (stabuse >= 99) {\n",
    "    // 変数の上限の個数を超えてしまった\n",
    "    printf(\"table overflow,\\n\");\n",
    "    exit(1);\n",
    "  }\n",
    "\n",
    "  // 表になかったので追加する\n",
    "  strcpy(stab[stabuse].name, s);\n",
    "  return stabuse++;  // 追加した位置を返す\n",
    "}\n",
    "\n",
    "// 新しいノードを作る関数\n",
    "Node* createNode(int node_type, Node* left, Node* right) {\n",
    "    Node* newNode = (Node*)malloc(sizeof(Node));\n",
    "    newNode->node_type = node_type;\n",
    "    newNode->left = left;\n",
    "    newNode->right = right;\n",
    "    return newNode;\n",
    "}\n",
    "\n",
    "// ASTに変更を加える関数 (例: T_ADDノードの左右の子を交換する)\n",
    "Node* opt(Node* node,Node* parent, char lr) {\n",
    "  if (node == NULL) {\n",
    "    printf(\"node is NULL\");\n",
    "    return NULL;\n",
    "  }\n",
    "  // 現在のノードに対する処理\n",
    "  switch (node->node_type) {\n",
    "    case T_STLIST:\n",
    "      if (node->left != NULL) { opt(node->left,node,\"l\");}\n",
    "      opt(node->right,node,'r');\n",
    "      break;\n",
    "    case T_ASSIGN:\n",
    "      opt(node->right,node,'r');\n",
    "      break;\n",
    "    case T_PRINT:\n",
    "      opt(node->left,node,'l');\n",
    "      break;\n",
    "    case T_ADD:\n",
    "      if (node->left->node_type == T_NUM && node->right->node_type == T_NUM) {\n",
    "         Node* newNode = createNode(T_NUM, INT_PTR(PTR_INT(node->left->left) + PTR_INT(node->right->left)), NULL);\n",
    "         if (lr == 'r') parent->right = newNode;\n",
    "         else parent->left  = newNode;\n",
    "      }else if(node->left->node_type == T_NUM && PTR_INT(node->left->left) == 0){\n",
    "        if(lr == 'r') parent->right = node->right;\n",
    "        else parent->left  = node->right;\n",
    "      }else if(node->right->node_type == T_NUM && PTR_INT(node->right->left) == 0){\n",
    "        if(lr == 'r') parent->right = node->left;\n",
    "        else parent->left  = node->left;\n",
    "      }else{\n",
    "        opt(node->left,node,'l');\n",
    "        opt(node->right,node,'r');\n",
    "      }\n",
    "    break;\n",
    "\n",
    "      break;\n",
    "  }\n",
    "  return node; // 変更後の(あるいは変更しない)ノードを返す\n",
    "}\n",
    "\n",
    "// ノードをたどる関数\n",
    "void traverse_tree(Node* node) {\n",
    "  if (node == NULL) {\n",
    "    printf(\"node is NULL\\n\");\n",
    "    return;\n",
    "  }\n",
    "  switch (node->node_type) {\n",
    "    case T_STLIST:\n",
    "      if (node->left != NULL) { traverse_tree(node->left); printf(\"; \"); }\n",
    "      traverse_tree(node->right);\n",
    "      break;\n",
    "    case T_READ:\n",
    "      printf(\"read v%d\\n\", node->left);\n",
    "      break;\n",
    "    case T_PRINT:\n",
    "      printf(\"print \");\n",
    "      traverse_tree(node->left);\n",
    "      printf(\"\\n\");\n",
    "      break;\n",
    "    case T_ADD:\n",
    "      printf(\"(\");\n",
    "      traverse_tree(node->left);\n",
    "      printf(\" + \");\n",
    "      traverse_tree(node->right);\n",
    "      printf(\")\");\n",
    "      break;\n",
    "    case T_SUB:\n",
    "      printf(\"(\");\n",
    "      traverse_tree(node->left);\n",
    "      printf(\" - \");\n",
    "      traverse_tree(node->right);\n",
    "      printf(\")\");\n",
    "      break;\n",
    "    case T_NUM:\n",
    "      printf(\"%d\", PTR_INT(node->left));\n",
    "      break;\n",
    "    case T_VAR:\n",
    "      printf(\"v%d\", PTR_INT(node->left));\n",
    "      break;\n",
    "    case T_ASSIGN:\n",
    "       /* the left child is a VAR node – print it properly */\n",
    "      traverse_tree(node->left);\n",
    "      printf(\" = \");\n",
    "      traverse_tree(node->right);\n",
    "      printf(\"\\n\");\n",
    "      break;\n",
    "\n",
    "  }\n",
    "}\n",
    "\n",
    "#include \"y.tab.c\"\n",
    "#include \"lex.yy.c\"\n",
    "\n",
    "int main() {\n",
    "  yyparse();\n",
    "  return 0;\n",
    "}"
   ]
  },
  {
   "cell_type": "code",
   "execution_count": 3,
   "id": "86f5afea-6fd7-42b0-af07-94f71501893c",
   "metadata": {
    "deletable": false,
    "editable": true,
    "slideshow": {
     "slide_type": ""
    },
    "tags": []
   },
   "outputs": [
    {
     "name": "stdout",
     "output_type": "stream",
     "text": [
      "v0 = 10\n",
      "; print v0\n",
      "; v1 = v0\n",
      "; print v1\n"
     ]
    }
   ],
   "source": [
    "/* a.out */\n",
    "main {\n",
    "  x = 5 + 5;\n",
    "  print x;\n",
    "  y = x + 0;\n",
    "  print y;\n",
    "}"
   ]
  },
  {
   "cell_type": "code",
   "execution_count": null,
   "id": "126b8dfc-55af-4eed-81ea-c478f2bf5f80",
   "metadata": {},
   "outputs": [],
   "source": []
  },
  {
   "cell_type": "code",
   "execution_count": null,
   "id": "0a98ac73-d9e6-4c6b-acc1-f8614f0b42e6",
   "metadata": {},
   "outputs": [],
   "source": []
  }
 ],
 "metadata": {
  "kernelspec": {
   "display_name": "lex yacc",
   "language": "lexyacc",
   "name": "lexyacc-kernel"
  },
  "language_info": {
   "mimetype": "text/plain",
   "name": "lex yacc"
  }
 },
 "nbformat": 4,
 "nbformat_minor": 5
}
