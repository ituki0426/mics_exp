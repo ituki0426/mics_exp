{
 "cells": [
  {
   "cell_type": "code",
   "execution_count": null,
   "id": "5e6e182e",
   "metadata": {},
   "outputs": [
    {
     "name": "stdout",
     "output_type": "stream",
     "text": [
      "Linear Assignment problem result: 31\n",
      "[[ 7.  0.  0.  0.]\n",
      " [ 0.  0.  0. 10.]\n",
      " [ 0.  0. 10.  0.]\n",
      " [ 0.  4.  0.  0.]]\n"
     ]
    }
   ],
   "source": []
  }
 ],
 "metadata": {
  "kernelspec": {
   "display_name": "3.11.8",
   "language": "python",
   "name": "python3"
  },
  "language_info": {
   "codemirror_mode": {
    "name": "ipython",
    "version": 3
   },
   "file_extension": ".py",
   "mimetype": "text/x-python",
   "name": "python",
   "nbconvert_exporter": "python",
   "pygments_lexer": "ipython3",
   "version": "3.11.8"
  }
 },
 "nbformat": 4,
 "nbformat_minor": 5
}
