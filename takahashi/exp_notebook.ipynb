{
 "cells": [
  {
   "cell_type": "markdown",
   "id": "b1b45109",
   "metadata": {},
   "source": [
    "# 演習11\n",
    "\n",
    "## 条件\n",
    "\n",
    "売り手は,$m$ 個の財を出品し,買い手は,財1個あたりの評価額 $v_i$ を持つ。各買い手は,m 個までの財を需要する。\n",
    "\n",
    "買い手 $i$ の財1個あたりの入札額を $b_i$ としたとき,財の割当ては次の最適化問題の最適解として導出される。\n",
    "\n",
    "最適解を導出する際はDPを使用する。\n",
    "\n",
    "$$\n",
    "\\begin{aligned}\n",
    "\\text{最大化}\\quad & \\sum_{i \\in N} b_i x_i \\\\\n",
    "\\text{条件}\\quad &\n",
    "\\begin{cases}\n",
    "\\displaystyle \\sum_{i \\in N} x_i \\leq m, \\\\\n",
    "x \\geq 0\n",
    "\\end{cases}\n",
    "\\end{aligned}\n",
    "\\tag{1}\n",
    "$$\n",
    "\n",
    "また、財の割り当ては下記で示されるVCGメカニズムに従う。\n",
    "\n",
    "全員が参加した時のオークションの割り当てを $\\vec{x}^{*}$ 、特定の買い手 $j$ を除いたオークションの割り当てを、$\\vec{x}^{-j}$ とする。\n",
    "このとき買い手 $j$ の支払額 $p_j$ は下記のように計算される。\n",
    "\n",
    "$$\n",
    "p_j = \n",
    "\\sum_{i \\in N \\setminus \\{j\\}} b_i x_i^{-j}\n",
    "-\n",
    "\\left(\n",
    "\\sum_{i \\in N} b_i x_i^* - b_j x_j^*\n",
    "\\right)\n",
    "$$\n",
    "\n",
    "\n",
    "\n"
   ]
  },
  {
   "cell_type": "code",
   "execution_count": 9,
   "id": "c7d27b41",
   "metadata": {},
   "outputs": [],
   "source": [
    "from typing import List\n",
    "\n",
    "class DPBasedVCGMechanism:\n",
    "    n_bidders: int\n",
    "    n_items: int\n",
    "    bids: List[List[int]]  # 2D valuation matrix [bidder][item]\n",
    "\n",
    "    def __init__(self):\n",
    "        pass"
   ]
  },
  {
   "cell_type": "markdown",
   "id": "3495843d",
   "metadata": {},
   "source": [
    "# 演習12"
   ]
  },
  {
   "cell_type": "markdown",
   "id": "78611e26",
   "metadata": {},
   "source": [
    "# 演習13"
   ]
  },
  {
   "cell_type": "markdown",
   "id": "251a10ac",
   "metadata": {},
   "source": [
    "# 演習14"
   ]
  },
  {
   "cell_type": "markdown",
   "id": "7a56310d",
   "metadata": {},
   "source": [
    "# 演習15\n",
    "\n",
    "クラスHngarianとして実装する\n",
    "\n",
    "```Python\n",
    "class Hungarian:\n",
    "    def __init__(self,X):\n",
    "\n",
    "```\n",
    "\n",
    "## 入力X\n",
    "\n",
    "\n",
    "$$\n",
    "\\mathbf{X}\n",
    "=\n",
    "\\begin{bmatrix}\n",
    "x_{1,1} & x_{1,2} & \\cdots & x_{1,N} \\\\\n",
    "x_{2,1} & x_{2,2} & \\cdots & x_{2,N} \\\\\n",
    "\\vdots  & \\vdots  & \\ddots & \\vdots  \\\\\n",
    "x_{N,1} & x_{N,2} & \\cdots & x_{N,N}\n",
    "\\end{bmatrix},\n",
    "\\qquad 1 \\le i \\le N,\\; 1 \\le j \\le N\n",
    "$$\n",
    "\n",
    "\n",
    "## step1\n",
    "\n",
    "## step2\n",
    "\n",
    "クラスHangarian内にてdef _step(self)として定義する。\n",
    "\n",
    "## step3\n",
    "\n",
    "クラスHangarian内にてdef _step3(self)として定義する。\n",
    "\n",
    "## step4\n"
   ]
  },
  {
   "cell_type": "code",
   "execution_count": null,
   "id": "b3bebda6",
   "metadata": {},
   "outputs": [
    {
     "name": "stdout",
     "output_type": "stream",
     "text": [
      "After Step 1: [[2, 3, 0, 0], [1, 0, 4, 4], [3, 0, 9, 5], [0, 1, 3, 1]]\n"
     ]
    },
    {
     "data": {
      "text/plain": [
       "<__main__.Hungarian at 0x111a1e4d0>"
      ]
     },
     "execution_count": 8,
     "metadata": {},
     "output_type": "execute_result"
    }
   ],
   "source": [
    "from typing import List, Tuple\n",
    "class Hungarian:\n",
    "    \"\"\"\n",
    "    Hungarian algorithm for assignment problems.\n",
    "    Attributes:\n",
    "        X: 3D list representing the cost matrix.\n",
    "    \n",
    "    \"\"\"\n",
    "    N: int = 0\n",
    "    input_tensor: List[List[int]] = [[]]\n",
    "    output : List[int]  = []\n",
    "    \n",
    "    def __init__(self,X):\n",
    "        self.input_tensor = X\n",
    "        if len(X) != len(X[0]):\n",
    "            raise ValueError(\"Input matrix must be square.\")\n",
    "        else:\n",
    "            self.N = len(X)\n",
    "        self._step1()\n",
    "        print(f\"After Step 1: {self.input_tensor}\")\n",
    "        while 1:\n",
    "            if self._step2():\n",
    "                break\n",
    "            self._step3()\n",
    "        self._step3()\n",
    "        self._step4()\n",
    "    def _is_include_zero(self,arr):\n",
    "        for v in arr:\n",
    "            if v == 0:\n",
    "                return True\n",
    "        return False\n",
    "    def _step1(self):\n",
    "        for i in range(self.N):\n",
    "            min_value = min(self.input_tensor[i])\n",
    "            for j in range(self.N):\n",
    "                self.input_tensor[i][j] -= min_value\n",
    "        for j in range(self.N):\n",
    "            col = [self.input_tensor[i][j] for i in range(self.N)]\n",
    "            min_value = min(col)\n",
    "            for i in range(self.N):\n",
    "                self.input_tensor[i][j] -= min_value\n",
    "    def _step2(self):\n",
    "        is_completed = True \n",
    "        for i in range(self.N):\n",
    "            if 0 not in self.input_tensor[i]:\n",
    "                is_completed = False\n",
    "        return is_completed\n",
    "    def _step3(self):\n",
    "        records: List[Tuple[str, int, int]] = []\n",
    "        tmp_tensor = self.input_tensor.copy()\n",
    "        for i in range(self.N):\n",
    "            num_zeros = tmp_tensor[i].count(0)\n",
    "            records.append(('row', num_zeros, i))   \n",
    "        for j in range(self.N):\n",
    "            col = [tmp_tensor[i][j] for i in range(self.N)]\n",
    "            num_zeros = col.count(0)\n",
    "            records.append(('col', num_zeros, j))\n",
    "        records.sort(key=lambda x: x[1])\n",
    "\n",
    "    def _step4(self):\n",
    "        # Placeholder for step 4 of the Hungarian algorithm\n",
    "        pass\n",
    "test_tensor = [\n",
    "    [7, 8, 5, 6],\n",
    "    [6, 5, 9, 10],\n",
    "    [4, 1, 10, 7],\n",
    "    [3, 4, 6, 5]\n",
    "]\n",
    "\n",
    "Hungarian(test_tensor)"
   ]
  },
  {
   "cell_type": "markdown",
   "id": "575b19c4",
   "metadata": {},
   "source": [
    "# 演習16\n",
    "\n",
    "ハンガリー法を用いて $(AP)$、$(AP)^{-i}$ を計算する\n"
   ]
  },
  {
   "cell_type": "code",
   "execution_count": 5,
   "id": "87b0f03d",
   "metadata": {},
   "outputs": [
    {
     "name": "stdout",
     "output_type": "stream",
     "text": [
      "[[80, 70, 60], [50, 40, 30], [20, 10, 0]]\n"
     ]
    }
   ],
   "source": [
    "class HungarianVCGAllocator:\n",
    "    n_bidders: int\n",
    "    n_items: int\n",
    "    values: List[List[int]]  # values[i][j] in [10, 100]\n",
    "    ans_allocation: List[int] = []\n",
    "    ans_payment: List[int] = []\n",
    "    def __init__(self, n_bidders: int, n_items: int, values: List[List[int]]):\n",
    "        self.n_cols = len(values[0])\n",
    "        self.n_rows = len(values)\n",
    "        if self.n_cols != n_items or self.n_rows != n_bidders:\n",
    "            raise ValueError(\"Dimension of values does not match n_bidders and n_items.\")\n",
    "        self.n_bidders = n_bidders\n",
    "        self.n_items = n_items\n",
    "        self.values = values\n",
    "        self.Vmax = self.to_maximization_matrix()\n",
    "    def to_maximization_matrix(self) -> List[List[int]]:\n",
    "        max_value = max(max(row) for row in self.values)\n",
    "        return [[max_value - self.values[i][j] for j in range(self.n_items)] for i in range(self.n_rows)]   \n",
    "\n",
    "sample_n_bidders = 3\n",
    "sample_n_items = 3\n",
    "sample_tensor = [\n",
    "    [10, 20, 30],\n",
    "    [40, 50, 60],\n",
    "    [70, 80, 90]\n",
    "]\n",
    "test_allocator = HungarianVCGAllocator(sample_n_bidders, sample_n_items, sample_tensor)\n",
    "print(test_allocator.Vmax)"
   ]
  }
 ],
 "metadata": {
  "kernelspec": {
   "display_name": "Python 3",
   "language": "python",
   "name": "python3"
  },
  "language_info": {
   "codemirror_mode": {
    "name": "ipython",
    "version": 3
   },
   "file_extension": ".py",
   "mimetype": "text/x-python",
   "name": "python",
   "nbconvert_exporter": "python",
   "pygments_lexer": "ipython3",
   "version": "3.10.13"
  }
 },
 "nbformat": 4,
 "nbformat_minor": 5
}
