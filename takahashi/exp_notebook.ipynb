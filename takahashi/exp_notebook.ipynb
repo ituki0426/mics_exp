{
 "cells": [
  {
   "cell_type": "code",
   "execution_count": null,
   "id": "10f76e62",
   "metadata": {},
   "outputs": [],
   "source": []
  },
  {
   "cell_type": "markdown",
   "id": "7a56310d",
   "metadata": {},
   "source": [
    "# 演習15\n",
    "\n",
    "クラスHngarianとして実装する\n",
    "\n",
    "```Python\n",
    "class Hungarian:\n",
    "    ans = List[]\n",
    "    def __init__(self,X):\n",
    "\n",
    "```\n",
    "\n",
    "## 入力X\n",
    "\n",
    "\n",
    "$$\n",
    "\\mathbf{X}\n",
    "=\n",
    "\\begin{bmatrix}\n",
    "x_{1,1} & x_{1,2} & \\cdots & x_{1,N} \\\\\n",
    "x_{2,1} & x_{2,2} & \\cdots & x_{2,N} \\\\\n",
    "\\vdots  & \\vdots  & \\ddots & \\vdots  \\\\\n",
    "x_{N,1} & x_{N,2} & \\cdots & x_{N,N}\n",
    "\\end{bmatrix},\n",
    "\\qquad 1 \\le i \\le N,\\; 1 \\le j \\le N\n",
    "$$\n",
    "\n"
   ]
  },
  {
   "cell_type": "markdown",
   "id": "575b19c4",
   "metadata": {},
   "source": [
    "# 演習16\n",
    "\n",
    "ハンガリー法を用いて $(AP)$、$(AP)^$"
   ]
  }
 ],
 "metadata": {
  "kernelspec": {
   "display_name": "3.11.8",
   "language": "python",
   "name": "python3"
  },
  "language_info": {
   "name": "python",
   "version": "3.11.8"
  }
 },
 "nbformat": 4,
 "nbformat_minor": 5
}
